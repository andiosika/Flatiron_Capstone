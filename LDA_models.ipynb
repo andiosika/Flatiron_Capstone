{
 "cells": [
  {
   "cell_type": "markdown",
   "metadata": {},
   "source": [
    "# LDA Models: "
   ]
  },
  {
   "cell_type": "code",
   "execution_count": 6,
   "metadata": {
    "ExecuteTime": {
     "end_time": "2020-08-14T19:47:09.622631Z",
     "start_time": "2020-08-14T19:47:09.295346Z"
    }
   },
   "outputs": [],
   "source": [
    "#importing libraries:\n",
    "import matplotlib.pyplot as plt\n",
    "import numpy as np\n",
    "import pickle"
   ]
  },
  {
   "cell_type": "markdown",
   "metadata": {},
   "source": [
    "## Negative Sentiment LDA Model Code:"
   ]
  },
  {
   "cell_type": "code",
   "execution_count": 7,
   "metadata": {
    "ExecuteTime": {
     "end_time": "2020-08-14T19:47:11.691991Z",
     "start_time": "2020-08-14T19:47:11.602232Z"
    }
   },
   "outputs": [],
   "source": [
    "# #pulling in data to load Dictionary from main file\n",
    "# with open(\"pickles/list_of_lists.pkl\", \"rb\") as f:\n",
    "# \tlist_of_lists = pickle.load(f)"
   ]
  },
  {
   "cell_type": "code",
   "execution_count": null,
   "metadata": {},
   "outputs": [],
   "source": [
    "#code to build and train the negative sentiment model:\n",
    "#from gensim import corpora, models\n",
    "\n",
    "# np.random.seed(41)\n",
    "\n",
    "\n",
    "\n",
    "\n",
    "# #instantiating the Dictionary, pulling out the words that occur less than 3 times and \n",
    "# #creating the corpus:\n",
    "# dictionary_LDA = corpora.Dictionary(list_of_lists)\n",
    "# dictionary_LDA.filter_extremes(no_below=3)\n",
    "# corpus = [dictionary_LDA.doc2bow(list_of_tokens) for list_of_tokens in list_of_lists]\n",
    "\n",
    "\n",
    "# num_topics = 5 #through trial & error this model doesn't appear to have a 'junk' topic\n",
    "# #instantiating the model\n",
    "# %time lda_model = models.LdaModel(corpus, num_topics=num_topics, \\\n",
    "#                                   id2word=dictionary_LDA, \\\n",
    "#                                   passes=10, alpha=[0.1]*num_topics, \\\n",
    "#                                   eta=[0.5]*len(dictionary_LDA.keys()))"
   ]
  },
  {
   "cell_type": "code",
   "execution_count": null,
   "metadata": {},
   "outputs": [],
   "source": [
    "#saving the model for time's sake and reproducibility:\n",
    "#lda_model.save('lda_model.model')"
   ]
  },
  {
   "cell_type": "code",
   "execution_count": null,
   "metadata": {},
   "outputs": [],
   "source": [
    "#evaluating model \n",
    "# from gensim.models.coherencemodel import CoherenceModel\n",
    "# Compute Coherence Score using c_v\n",
    "# coherence_model_lda = CoherenceModel(model=lda_model, texts= list_of_lists, dictionary=dictionary_LDA, coherence='c_v')\n",
    "# coherence_lda_neg = coherence_model_lda.get_coherence()\n",
    "# print('\\nCoherence Score: ', coherence_lda_neg)"
   ]
  },
  {
   "cell_type": "code",
   "execution_count": null,
   "metadata": {},
   "outputs": [],
   "source": [
    "# #code for instaciating and visualizing interactive lda model:\n",
    "# np.random.seed(41)\n",
    "# %matplotlib inline\n",
    "# import pyLDAvis\n",
    "# import pyLDAvis.gensim\n",
    "# %time vis = pyLDAvis.gensim.prepare(topic_model=lda_model, corpus=corpus, dictionary=dictionary_LDA)\n",
    "# pyLDAvis.enable_notebook()\n",
    "# %time pyLDAvis.display(vis)"
   ]
  },
  {
   "cell_type": "markdown",
   "metadata": {},
   "source": [
    "## Positive Sentiment LDA Model Code:"
   ]
  },
  {
   "cell_type": "code",
   "execution_count": 9,
   "metadata": {
    "ExecuteTime": {
     "end_time": "2020-08-14T20:13:47.685139Z",
     "start_time": "2020-08-14T20:13:47.596810Z"
    }
   },
   "outputs": [],
   "source": [
    "# #pulling in data to load Dictionary from main file\n",
    "# with open(\"pickles/pos_list_of_lists.pkl\", \"rb\") as f:\n",
    "# \tpos_list_of_lists = pickle.load(f)"
   ]
  },
  {
   "cell_type": "code",
   "execution_count": null,
   "metadata": {},
   "outputs": [],
   "source": [
    "# #code to build and train the positive sentiment model:\n",
    "# np.random.seed(42)\n",
    "\n",
    "# #instantiating the Dictionary, pulling out the words that occur less than 3 times and \n",
    "# #creating the corpus:\n",
    "# dictionary_LDA_pos = corpora.Dictionary(pos_list_of_lists)\n",
    "# dictionary_LDA_pos.filter_extremes(no_below=3)\n",
    "# corpus = [dictionary_LDA_pos.doc2bow(list_of_tokens) for list_of_tokens in pos_list_of_lists]\n",
    "\n",
    "\n",
    "# num_topics = 6 #through trial & error this model doesn't appear to have a 'junk' topic\n",
    "# #instantiating the model\n",
    "# %time lda_model_pos = models.LdaModel(corpus, num_topics=num_topics, \\\n",
    "#                                   id2word=dictionary_LDA_pos, \\\n",
    "#                                   passes=4, alpha=[0.01]*num_topics, \\\n",
    "#                                   eta=[0.01]*len(dictionary_LDA_pos.keys()))"
   ]
  },
  {
   "cell_type": "code",
   "execution_count": null,
   "metadata": {},
   "outputs": [],
   "source": [
    "#saving the model for time's sake and reproducibility:\n",
    "#lda_model_pos.save('lda_model_pos.model')"
   ]
  }
 ],
 "metadata": {
  "kernelspec": {
   "display_name": "Python [conda env:learn-env] *",
   "language": "python",
   "name": "conda-env-learn-env-py"
  },
  "language_info": {
   "codemirror_mode": {
    "name": "ipython",
    "version": 3
   },
   "file_extension": ".py",
   "mimetype": "text/x-python",
   "name": "python",
   "nbconvert_exporter": "python",
   "pygments_lexer": "ipython3",
   "version": "3.6.9"
  },
  "latex_envs": {
   "LaTeX_envs_menu_present": true,
   "autoclose": false,
   "autocomplete": true,
   "bibliofile": "biblio.bib",
   "cite_by": "apalike",
   "current_citInitial": 1,
   "eqLabelWithNumbers": true,
   "eqNumInitial": 1,
   "hotkeys": {
    "equation": "Ctrl-E",
    "itemize": "Ctrl-I"
   },
   "labels_anchors": false,
   "latex_user_defs": false,
   "report_style_numbering": false,
   "user_envs_cfg": false
  },
  "toc": {
   "base_numbering": 1,
   "nav_menu": {},
   "number_sections": true,
   "sideBar": true,
   "skip_h1_title": false,
   "title_cell": "Table of Contents",
   "title_sidebar": "Contents",
   "toc_cell": false,
   "toc_position": {},
   "toc_section_display": true,
   "toc_window_display": false
  },
  "varInspector": {
   "cols": {
    "lenName": 16,
    "lenType": 16,
    "lenVar": 40
   },
   "kernels_config": {
    "python": {
     "delete_cmd_postfix": "",
     "delete_cmd_prefix": "del ",
     "library": "var_list.py",
     "varRefreshCmd": "print(var_dic_list())"
    },
    "r": {
     "delete_cmd_postfix": ") ",
     "delete_cmd_prefix": "rm(",
     "library": "var_list.r",
     "varRefreshCmd": "cat(var_dic_list()) "
    }
   },
   "types_to_exclude": [
    "module",
    "function",
    "builtin_function_or_method",
    "instance",
    "_Feature"
   ],
   "window_display": false
  }
 },
 "nbformat": 4,
 "nbformat_minor": 2
}
