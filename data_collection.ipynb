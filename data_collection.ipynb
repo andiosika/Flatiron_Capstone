{
 "cells": [
  {
   "cell_type": "markdown",
   "metadata": {},
   "source": [
    "# Data Collection:\n",
    "This notebook covers the initial data collection using [google play scraper](https://pypi.org/project/google-play-scraper/) and preliminary data cleaning.\n",
    "\n",
    "The output are two files: \n",
    "1. app_info_date - high level app information including: \n",
    "    * title\t\n",
    "    * description\t\n",
    "    * descriptionHTML\t\n",
    "    * summary\t\n",
    "    * summaryHTML\t\n",
    "    * installs\t\n",
    "    * minInstalls\t\n",
    "    * score\t\n",
    "    * ratings\t\n",
    "    * reviews\t\n",
    "    * contentRatingDescription\t\n",
    "    * adSupported\t\n",
    "    * containsAds\t\n",
    "    * released\t\n",
    "    * updated\t\n",
    "    * version\t\n",
    "    * recentChanges\t\n",
    "    * recentChangesHTML\t\n",
    "    * appId\t\n",
    "    * url\n",
    "    \n",
    "    \n",
    "* app_reviews_clean The main file used in this project:"
   ]
  },
  {
   "cell_type": "markdown",
   "metadata": {},
   "source": [
    "# Obtain:"
   ]
  },
  {
   "cell_type": "markdown",
   "metadata": {},
   "source": [
    "Inspired by: https://www.curiousily.com/posts/create-dataset-for-sentiment-analysis-by-scraping-google-play-app-reviews-using-python/ SEVERAL copies of this same project exist in various formats by various authors.\n",
    "\n",
    "going to App Annie and looking at top grossing wellness apps:\n",
    "https://www.appannie.com/apps/google-play/top-chart/?country=US&category=19&device=&date=2020-04-05&feed=All&rank_sorting_type=rank&page_number=0&page_size=100&table_selections="
   ]
  },
  {
   "cell_type": "code",
   "execution_count": 2,
   "metadata": {
    "ExecuteTime": {
     "end_time": "2020-08-12T17:52:51.239036Z",
     "start_time": "2020-08-12T17:52:51.235032Z"
    }
   },
   "outputs": [],
   "source": [
    "#!pip install google_play_scraper"
   ]
  },
  {
   "cell_type": "code",
   "execution_count": 3,
   "metadata": {
    "ExecuteTime": {
     "end_time": "2020-08-12T17:52:56.684873Z",
     "start_time": "2020-08-12T17:52:54.296922Z"
    }
   },
   "outputs": [],
   "source": [
    "import json\n",
    "import pandas as pd\n",
    "from tqdm import tqdm\n",
    "import seaborn as sns\n",
    "import matplotlib.pyplot as plt\n",
    "from pygments import highlight\n",
    "from pygments.lexers import JsonLexer\n",
    "from pygments.formatters import TerminalFormatter\n",
    "from google_play_scraper import Sort, reviews, app\n",
    "%matplotlib inline\n",
    "%config InlineBackend.figure_format='retina'\n",
    "sns.set(style='whitegrid', palette='muted', font_scale=1.2)\n",
    "plt.style.use('seaborn-notebook')"
   ]
  },
  {
   "cell_type": "markdown",
   "metadata": {},
   "source": [
    "## Top 5 Wellness Apps:\n",
    "\n",
    "According to [appannie](https://www.appannie.com/apps/google-play/top-chart/?country=US&category=19&device=&date=2020-04-05&feed=All&rank_sorting_type=rank&page_number=0&page_size=100&table_selections=), the top five grossing wellness apps on July 1 for the google play store in order:\n",
    "\n",
    "1. Calm\n",
    "* MyFitnessPal\n",
    "* Headspace\n",
    "* Me\n",
    "* Fitbit\n",
    "\n",
    "Data on each package was obtained using [google play scraper](https://pypi.org/project/google-play-scraper/). Overviews of each app can be observed below:"
   ]
  },
  {
   "cell_type": "code",
   "execution_count": 4,
   "metadata": {
    "ExecuteTime": {
     "end_time": "2020-08-12T17:53:01.225277Z",
     "start_time": "2020-08-12T17:53:01.218772Z"
    }
   },
   "outputs": [],
   "source": [
    "#creating a list of top apps based on their google play app id\n",
    "\n",
    "app_packages = [\n",
    "    'com.calm.android',\n",
    "    'com.myfitnesspal.android',\n",
    "    'com.getsomeheadspace.android', \n",
    "    'com.gen.workoutme',\n",
    "    'com.fitbit.FitbitMobile'\n",
    "]"
   ]
  },
  {
   "cell_type": "code",
   "execution_count": 5,
   "metadata": {
    "ExecuteTime": {
     "end_time": "2020-08-12T17:53:08.452991Z",
     "start_time": "2020-08-12T17:53:03.367214Z"
    }
   },
   "outputs": [
    {
     "name": "stderr",
     "output_type": "stream",
     "text": [
      "100%|██████████| 5/5 [00:05<00:00,  1.01s/it]\n"
     ]
    }
   ],
   "source": [
    "#obtaining information on each app and descriptive history using google_play_scraper api\n",
    "app_infos = []\n",
    "\n",
    "for ap in tqdm(app_packages):\n",
    "    info = app(ap, lang='en', country='us')\n",
    "    del info['comments']\n",
    "    app_infos.append(info)"
   ]
  },
  {
   "cell_type": "code",
   "execution_count": 6,
   "metadata": {
    "ExecuteTime": {
     "end_time": "2020-08-12T17:53:10.630567Z",
     "start_time": "2020-08-12T17:53:10.614654Z"
    }
   },
   "outputs": [],
   "source": [
    "app_infos_df = pd.DataFrame.from_records(app_infos)"
   ]
  },
  {
   "cell_type": "code",
   "execution_count": 7,
   "metadata": {
    "ExecuteTime": {
     "end_time": "2020-08-12T17:53:29.636618Z",
     "start_time": "2020-08-12T17:53:29.618612Z"
    }
   },
   "outputs": [],
   "source": [
    "#app_infos_df.to_csv('app_infos_081220')\n",
    "#saved file since every download grabs different data"
   ]
  },
  {
   "cell_type": "markdown",
   "metadata": {},
   "source": [
    "##  App Descriptions and Summaries below:"
   ]
  },
  {
   "cell_type": "code",
   "execution_count": 8,
   "metadata": {
    "ExecuteTime": {
     "end_time": "2020-08-12T17:53:32.038597Z",
     "start_time": "2020-08-12T17:53:31.992616Z"
    }
   },
   "outputs": [
    {
     "data": {
      "text/html": [
       "<div>\n",
       "<style scoped>\n",
       "    .dataframe tbody tr th:only-of-type {\n",
       "        vertical-align: middle;\n",
       "    }\n",
       "\n",
       "    .dataframe tbody tr th {\n",
       "        vertical-align: top;\n",
       "    }\n",
       "\n",
       "    .dataframe thead th {\n",
       "        text-align: right;\n",
       "    }\n",
       "</style>\n",
       "<table border=\"1\" class=\"dataframe\">\n",
       "  <thead>\n",
       "    <tr style=\"text-align: right;\">\n",
       "      <th></th>\n",
       "      <th>title</th>\n",
       "      <th>description</th>\n",
       "      <th>descriptionHTML</th>\n",
       "      <th>summary</th>\n",
       "      <th>summaryHTML</th>\n",
       "      <th>installs</th>\n",
       "      <th>minInstalls</th>\n",
       "      <th>score</th>\n",
       "      <th>ratings</th>\n",
       "      <th>reviews</th>\n",
       "      <th>...</th>\n",
       "      <th>contentRatingDescription</th>\n",
       "      <th>adSupported</th>\n",
       "      <th>containsAds</th>\n",
       "      <th>released</th>\n",
       "      <th>updated</th>\n",
       "      <th>version</th>\n",
       "      <th>recentChanges</th>\n",
       "      <th>recentChangesHTML</th>\n",
       "      <th>appId</th>\n",
       "      <th>url</th>\n",
       "    </tr>\n",
       "  </thead>\n",
       "  <tbody>\n",
       "    <tr>\n",
       "      <td>0</td>\n",
       "      <td>Calm - Meditate, Sleep, Relax</td>\n",
       "      <td>Calm is a leading app for meditation and sleep...</td>\n",
       "      <td>Calm is a leading app for meditation and sleep...</td>\n",
       "      <td>Join the millions discovering the life-changin...</td>\n",
       "      <td>Join the millions discovering the life-changin...</td>\n",
       "      <td>10,000,000+</td>\n",
       "      <td>10000000</td>\n",
       "      <td>4.394932</td>\n",
       "      <td>281076</td>\n",
       "      <td>93004</td>\n",
       "      <td>...</td>\n",
       "      <td>None</td>\n",
       "      <td>None</td>\n",
       "      <td>None</td>\n",
       "      <td>Jul 30, 2014</td>\n",
       "      <td>1596870029</td>\n",
       "      <td>Varies with device</td>\n",
       "      <td>As always, you can expect an original Daily Ca...</td>\n",
       "      <td>As always, you can expect an original Daily Ca...</td>\n",
       "      <td>com.calm.android</td>\n",
       "      <td>https://play.google.com/store/apps/details?id=...</td>\n",
       "    </tr>\n",
       "    <tr>\n",
       "      <td>1</td>\n",
       "      <td>Calorie Counter - MyFitnessPal</td>\n",
       "      <td>Whether you want to lose weight, tone up, get ...</td>\n",
       "      <td>Whether you want to lose weight, tone up, get ...</td>\n",
       "      <td>Lose weight with MyFitnessPal, the easiest cal...</td>\n",
       "      <td>Lose weight with MyFitnessPal, the easiest cal...</td>\n",
       "      <td>50,000,000+</td>\n",
       "      <td>50000000</td>\n",
       "      <td>4.449819</td>\n",
       "      <td>2321108</td>\n",
       "      <td>812280</td>\n",
       "      <td>...</td>\n",
       "      <td>None</td>\n",
       "      <td>True</td>\n",
       "      <td>True</td>\n",
       "      <td>Apr 26, 2010</td>\n",
       "      <td>1596756924</td>\n",
       "      <td>Varies with device</td>\n",
       "      <td>Whether you want to log your lowest weight in ...</td>\n",
       "      <td>Whether you want to log your lowest weight in ...</td>\n",
       "      <td>com.myfitnesspal.android</td>\n",
       "      <td>https://play.google.com/store/apps/details?id=...</td>\n",
       "    </tr>\n",
       "    <tr>\n",
       "      <td>2</td>\n",
       "      <td>Headspace: Meditation &amp; Sleep</td>\n",
       "      <td>Stress less. Sleep soundly. Get happy. Learn t...</td>\n",
       "      <td>Stress less. Sleep soundly. Get happy. Learn t...</td>\n",
       "      <td>Meditation and mindfulness in just a few minut...</td>\n",
       "      <td>Meditation and mindfulness in just a few minut...</td>\n",
       "      <td>10,000,000+</td>\n",
       "      <td>10000000</td>\n",
       "      <td>3.563259</td>\n",
       "      <td>135196</td>\n",
       "      <td>54887</td>\n",
       "      <td>...</td>\n",
       "      <td>None</td>\n",
       "      <td>None</td>\n",
       "      <td>None</td>\n",
       "      <td>Jan 6, 2012</td>\n",
       "      <td>1596756307</td>\n",
       "      <td>4.6.1</td>\n",
       "      <td>The latest release features a fresh all-new lo...</td>\n",
       "      <td>The latest release features a fresh all-new lo...</td>\n",
       "      <td>com.getsomeheadspace.android</td>\n",
       "      <td>https://play.google.com/store/apps/details?id=...</td>\n",
       "    </tr>\n",
       "    <tr>\n",
       "      <td>3</td>\n",
       "      <td>BetterMe: Home Workouts &amp; Diet</td>\n",
       "      <td>BetterMe: Home Workouts &amp; Diet To Lose Weight ...</td>\n",
       "      <td>BetterMe: Home Workouts &amp;amp; Diet To Lose Wei...</td>\n",
       "      <td>Weight Loss Workout: Abs, Butt, Legs and Whole...</td>\n",
       "      <td>Weight Loss Workout: Abs, Butt, Legs and Whole...</td>\n",
       "      <td>10,000,000+</td>\n",
       "      <td>10000000</td>\n",
       "      <td>3.861575</td>\n",
       "      <td>83464</td>\n",
       "      <td>32418</td>\n",
       "      <td>...</td>\n",
       "      <td>None</td>\n",
       "      <td>None</td>\n",
       "      <td>None</td>\n",
       "      <td>Jul 27, 2017</td>\n",
       "      <td>1597153156</td>\n",
       "      <td>3.9.2</td>\n",
       "      <td>Bug fixes and performance improvements.</td>\n",
       "      <td>Bug fixes and performance improvements.</td>\n",
       "      <td>com.gen.workoutme</td>\n",
       "      <td>https://play.google.com/store/apps/details?id=...</td>\n",
       "    </tr>\n",
       "    <tr>\n",
       "      <td>4</td>\n",
       "      <td>Fitbit</td>\n",
       "      <td>Start a free 90-day trial of Fitbit Premium fo...</td>\n",
       "      <td>Start a free 90-day trial of Fitbit Premium fo...</td>\n",
       "      <td>Fitbit is dedicated to helping people lead hea...</td>\n",
       "      <td>Fitbit is dedicated to helping people lead hea...</td>\n",
       "      <td>50,000,000+</td>\n",
       "      <td>50000000</td>\n",
       "      <td>3.809381</td>\n",
       "      <td>683244</td>\n",
       "      <td>312628</td>\n",
       "      <td>...</td>\n",
       "      <td>None</td>\n",
       "      <td>None</td>\n",
       "      <td>None</td>\n",
       "      <td>Mar 16, 2012</td>\n",
       "      <td>1596471804</td>\n",
       "      <td>Varies with device</td>\n",
       "      <td>*Bug fixes and performance improvements</td>\n",
       "      <td>*Bug fixes and performance improvements</td>\n",
       "      <td>com.fitbit.FitbitMobile</td>\n",
       "      <td>https://play.google.com/store/apps/details?id=...</td>\n",
       "    </tr>\n",
       "  </tbody>\n",
       "</table>\n",
       "<p>5 rows × 47 columns</p>\n",
       "</div>"
      ],
      "text/plain": [
       "                            title  \\\n",
       "0   Calm - Meditate, Sleep, Relax   \n",
       "1  Calorie Counter - MyFitnessPal   \n",
       "2   Headspace: Meditation & Sleep   \n",
       "3  BetterMe: Home Workouts & Diet   \n",
       "4                          Fitbit   \n",
       "\n",
       "                                         description  \\\n",
       "0  Calm is a leading app for meditation and sleep...   \n",
       "1  Whether you want to lose weight, tone up, get ...   \n",
       "2  Stress less. Sleep soundly. Get happy. Learn t...   \n",
       "3  BetterMe: Home Workouts & Diet To Lose Weight ...   \n",
       "4  Start a free 90-day trial of Fitbit Premium fo...   \n",
       "\n",
       "                                     descriptionHTML  \\\n",
       "0  Calm is a leading app for meditation and sleep...   \n",
       "1  Whether you want to lose weight, tone up, get ...   \n",
       "2  Stress less. Sleep soundly. Get happy. Learn t...   \n",
       "3  BetterMe: Home Workouts &amp; Diet To Lose Wei...   \n",
       "4  Start a free 90-day trial of Fitbit Premium fo...   \n",
       "\n",
       "                                             summary  \\\n",
       "0  Join the millions discovering the life-changin...   \n",
       "1  Lose weight with MyFitnessPal, the easiest cal...   \n",
       "2  Meditation and mindfulness in just a few minut...   \n",
       "3  Weight Loss Workout: Abs, Butt, Legs and Whole...   \n",
       "4  Fitbit is dedicated to helping people lead hea...   \n",
       "\n",
       "                                         summaryHTML     installs  \\\n",
       "0  Join the millions discovering the life-changin...  10,000,000+   \n",
       "1  Lose weight with MyFitnessPal, the easiest cal...  50,000,000+   \n",
       "2  Meditation and mindfulness in just a few minut...  10,000,000+   \n",
       "3  Weight Loss Workout: Abs, Butt, Legs and Whole...  10,000,000+   \n",
       "4  Fitbit is dedicated to helping people lead hea...  50,000,000+   \n",
       "\n",
       "   minInstalls     score  ratings  reviews  ... contentRatingDescription  \\\n",
       "0     10000000  4.394932   281076    93004  ...                     None   \n",
       "1     50000000  4.449819  2321108   812280  ...                     None   \n",
       "2     10000000  3.563259   135196    54887  ...                     None   \n",
       "3     10000000  3.861575    83464    32418  ...                     None   \n",
       "4     50000000  3.809381   683244   312628  ...                     None   \n",
       "\n",
       "   adSupported  containsAds      released     updated             version  \\\n",
       "0         None         None  Jul 30, 2014  1596870029  Varies with device   \n",
       "1         True         True  Apr 26, 2010  1596756924  Varies with device   \n",
       "2         None         None   Jan 6, 2012  1596756307               4.6.1   \n",
       "3         None         None  Jul 27, 2017  1597153156               3.9.2   \n",
       "4         None         None  Mar 16, 2012  1596471804  Varies with device   \n",
       "\n",
       "                                       recentChanges  \\\n",
       "0  As always, you can expect an original Daily Ca...   \n",
       "1  Whether you want to log your lowest weight in ...   \n",
       "2  The latest release features a fresh all-new lo...   \n",
       "3            Bug fixes and performance improvements.   \n",
       "4            *Bug fixes and performance improvements   \n",
       "\n",
       "                                   recentChangesHTML  \\\n",
       "0  As always, you can expect an original Daily Ca...   \n",
       "1  Whether you want to log your lowest weight in ...   \n",
       "2  The latest release features a fresh all-new lo...   \n",
       "3            Bug fixes and performance improvements.   \n",
       "4            *Bug fixes and performance improvements   \n",
       "\n",
       "                          appId  \\\n",
       "0              com.calm.android   \n",
       "1      com.myfitnesspal.android   \n",
       "2  com.getsomeheadspace.android   \n",
       "3             com.gen.workoutme   \n",
       "4       com.fitbit.FitbitMobile   \n",
       "\n",
       "                                                 url  \n",
       "0  https://play.google.com/store/apps/details?id=...  \n",
       "1  https://play.google.com/store/apps/details?id=...  \n",
       "2  https://play.google.com/store/apps/details?id=...  \n",
       "3  https://play.google.com/store/apps/details?id=...  \n",
       "4  https://play.google.com/store/apps/details?id=...  \n",
       "\n",
       "[5 rows x 47 columns]"
      ]
     },
     "execution_count": 8,
     "metadata": {},
     "output_type": "execute_result"
    }
   ],
   "source": [
    "app_infos_df"
   ]
  },
  {
   "cell_type": "markdown",
   "metadata": {},
   "source": [
    "A helper function from the inspiration project to read .json files: "
   ]
  },
  {
   "cell_type": "code",
   "execution_count": 10,
   "metadata": {
    "ExecuteTime": {
     "end_time": "2020-08-12T17:53:41.643662Z",
     "start_time": "2020-08-12T17:53:41.636208Z"
    }
   },
   "outputs": [],
   "source": [
    "def print_json(json_object):\n",
    "    json_str = json.dumps(\n",
    "        json_object,\n",
    "        indent=2,\n",
    "        sort_keys=True,\n",
    "        default=str)\n",
    "    #cool feature to help highlight specificied string\n",
    "    print(highlight(json_str, JsonLexer(), TerminalFormatter()))"
   ]
  },
  {
   "cell_type": "code",
   "execution_count": 11,
   "metadata": {
    "ExecuteTime": {
     "end_time": "2020-08-12T17:53:44.148059Z",
     "start_time": "2020-08-12T17:53:43.914539Z"
    }
   },
   "outputs": [
    {
     "name": "stdout",
     "output_type": "stream",
     "text": [
      "{\n",
      "  \"adSupported\": null,\n",
      "  \"androidVersion\": \"Varies\",\n",
      "  \"androidVersionText\": \"Varies with device\",\n",
      "  \"appId\": \"com.fitbit.FitbitMobile\",\n",
      "  \"containsAds\": null,\n",
      "  \"contentRating\": \"Everyone\",\n",
      "  \"contentRatingDescription\": null,\n",
      "  \"currency\": \"USD\",\n",
      "  \"description\": \"Start a free 90-day trial of Fitbit Premium for personalized guidance, customized health programs and 240+ video workouts you can do at home. \\r\\n\\r\\nSay hello to one of the world\\u2019s leading apps for health and fitness. Use the Fitbit app on it\\u2019s own to join our community, track basic stats and stay motivated on your journey. Or, get a Fitbit tracker or smartwatch to see how your activity, workouts, sleep, nutrition and stress all fit together. Either way, you\\u2019ll find the information and inspiration you need to reach your goals\\u2014all in one place. \\r\\n\\r\\nA free app that tracks your day & progress over time\\r\\nFind free workouts, nutrition programs, meditation tracks, sleep tools & more \\r\\nConnect with friends, start challenges & join an inspiring community\\r\\nSet goals, earn achievement badges & celebrate milestones\\r\\nAutomatically sync your data to 3,000+ popular partner apps\\r\\nAccess innovative smartwatch apps & fresh clock faces \\r\\nWorks with all Fitbit trackers, smartwatches, scales & other Fitbit products\\r\\n \\r\\nGET ACTIVE: See how small moves add up by using your smartphone to track steps and distance. Or pair with a Fitbit tracker or smartwatch to see all-day stats like steps, distance, calories burned, floors climbed and active minutes. \\r\\n\\r\\nWORK OUT FROM HOME: Access free video and audio workouts that you can do on your time, right from your living room. You\\u2019ll find sessions for HIIT, cardio, strength, yoga and more. Plus, start a 90-day free trial of Fitbit Premium to unlock 240+ workouts from popular brands like barre3, Daily Burn, POPSUGAR and Yoga Studio: Mind & Body.\\r\\n\\r\\nSLEEP BETTER: Discover how long and how well you\\u2019re sleeping, then improve your nightly routine with Fitbit\\u2019s innovative sleep tools\\u2014including a nightly Sleep Score, sleep goal setting, bedtime reminders and graphs that show your time in light, deep and REM sleep.\\r\\n\\r\\nMANAGE STRESS: Listen to free audio tracks to lessen your stress and improve your mood. Use mindfulness to start your day a better way, find moments of calm and set intentions with meditation or get help falling asleep with stories and relaxing sounds.  \\r\\n\\r\\nEAT SMARTER: Keep your nutrition in check with easy-to-use tools to set goals, log food and water, track calories in and out and see if you\\u2019re getting enough protein, fat and carbs. For more personalized programs to help you reach weight and nutrition goals, try Fitbit Premium.\\r\\n\\r\\nTRACK HEART RATE: Understand your overall health by using your watch or tracker to record your heart rate 24/7. In the app, find valuable data like resting heart rate trends, time spent in heart rate zones during workouts and a cardio fitness score.\\r\\n\\r\\nJOIN A COMMUNITY: Find the support and encouragement you need to get inspired, stay accountable and keep things fun. The Fitbit app makes it easy to connect with friends, start activity challenges, read educational articles, get expert advice and share your journey with an uplifting community. \\r\\n\\r\\n\\r\\nFitbit Premium:\\r\\n- Monthly and annual plans available that unlock habit-forming programs, audio & video workouts, and advanced insights.\\r\\n- Payment will be charged to your Google Play Account after your free trial expires, if applicable.\\r\\n- Subscription automatically renews unless auto-renew is turned off at least 24 hours before the end of the current period.\\r\\n- Account will be charged for renewal within 24 hours prior to the end of the current period, and identify the cost of the renewal.\\r\\n- Subscriptions may be managed by the user and auto-renewal may be turned off by going to the user's Account Settings after purchase.\\r\\n- Any unused portion of a free trial period, if offered, will be forfeited when the user purchases a subscription to that publication, where applicable.\\r\\n\\u2013 Fitbit Terms of Service: https://www.fitbit.com/legal/terms-of-service\\r\\n\\u2013 Fitbit Privacy Policy: https://www.fitbit.com/legal/privacy-policy\\r\\n\\r\\nLearn more about Fitbit products and services at www.fitbit.com.\",\n",
      "  \"descriptionHTML\": \"Start a free 90-day trial of Fitbit Premium for personalized guidance, customized health programs and 240+ video workouts you can do at home. <br><br>Say hello to one of the world\\u2019s leading apps for health and fitness. Use the Fitbit app on it\\u2019s own to join our community, track basic stats and stay motivated on your journey. Or, get a Fitbit tracker or smartwatch to see how your activity, workouts, sleep, nutrition and stress all fit together. Either way, you\\u2019ll find the information and inspiration you need to reach your goals\\u2014all in one place. <br><br>A free app that tracks your day &amp; progress over time<br>Find free workouts, nutrition programs, meditation tracks, sleep tools &amp; more <br>Connect with friends, start challenges &amp; join an inspiring community<br>Set goals, earn achievement badges &amp; celebrate milestones<br>Automatically sync your data to 3,000+ popular partner apps<br>Access innovative smartwatch apps &amp; fresh clock faces <br>Works with all Fitbit trackers, smartwatches, scales &amp; other Fitbit products<br> <br>GET ACTIVE: See how small moves add up by using your smartphone to track steps and distance. Or pair with a Fitbit tracker or smartwatch to see all-day stats like steps, distance, calories burned, floors climbed and active minutes. <br><br>WORK OUT FROM HOME: Access free video and audio workouts that you can do on your time, right from your living room. You\\u2019ll find sessions for HIIT, cardio, strength, yoga and more. Plus, start a 90-day free trial of Fitbit Premium to unlock 240+ workouts from popular brands like barre3, Daily Burn, POPSUGAR and Yoga Studio: Mind &amp; Body.<br><br>SLEEP BETTER: Discover how long and how well you\\u2019re sleeping, then improve your nightly routine with Fitbit\\u2019s innovative sleep tools\\u2014including a nightly Sleep Score, sleep goal setting, bedtime reminders and graphs that show your time in light, deep and REM sleep.<br><br>MANAGE STRESS: Listen to free audio tracks to lessen your stress and improve your mood. Use mindfulness to start your day a better way, find moments of calm and set intentions with meditation or get help falling asleep with stories and relaxing sounds.  <br><br>EAT SMARTER: Keep your nutrition in check with easy-to-use tools to set goals, log food and water, track calories in and out and see if you\\u2019re getting enough protein, fat and carbs. For more personalized programs to help you reach weight and nutrition goals, try Fitbit Premium.<br><br>TRACK HEART RATE: Understand your overall health by using your watch or tracker to record your heart rate 24/7. In the app, find valuable data like resting heart rate trends, time spent in heart rate zones during workouts and a cardio fitness score.<br><br>JOIN A COMMUNITY: Find the support and encouragement you need to get inspired, stay accountable and keep things fun. The Fitbit app makes it easy to connect with friends, start activity challenges, read educational articles, get expert advice and share your journey with an uplifting community. <br><br><br>Fitbit Premium:<br>- Monthly and annual plans available that unlock habit-forming programs, audio &amp; video workouts, and advanced insights.<br>- Payment will be charged to your Google Play Account after your free trial expires, if applicable.<br>- Subscription automatically renews unless auto-renew is turned off at least 24 hours before the end of the current period.<br>- Account will be charged for renewal within 24 hours prior to the end of the current period, and identify the cost of the renewal.<br>- Subscriptions may be managed by the user and auto-renewal may be turned off by going to the user&#39;s Account Settings after purchase.<br>- Any unused portion of a free trial period, if offered, will be forfeited when the user purchases a subscription to that publication, where applicable.<br>\\u2013 Fitbit Terms of Service: https://www.fitbit.com/legal/terms-of-service<br>\\u2013 Fitbit Privacy Policy: https://www.fitbit.com/legal/privacy-policy<br><br>Learn more about Fitbit products and services at www.fitbit.com.\",\n",
      "  \"developer\": \"Fitbit, Inc.\",\n",
      "  \"developerAddress\": \"199 Fremont, 14th Floor\\nSan Francisco, CA\\n94105\",\n",
      "  \"developerEmail\": \"android@fitbit.com\",\n",
      "  \"developerId\": \"Fitbit,+Inc.\",\n",
      "  \"developerInternalID\": \"7362502988246571055\",\n",
      "  \"developerWebsite\": \"http://help.fitbit.com/\",\n",
      "  \"free\": true,\n",
      "  \"genre\": \"Health & Fitness\",\n",
      "  \"genreId\": \"HEALTH_AND_FITNESS\",\n",
      "  \"headerImage\": \"https://lh3.googleusercontent.com/4Tdzuo_bi_lcgTXz6WRlkzMaUWSXQiACJiwt7VGNcOTsOf-r5MitMrVHFGdHNdQWRQ\",\n",
      "  \"histogram\": [\n",
      "    113617,\n",
      "    41959,\n",
      "    50028,\n",
      "    133080,\n",
      "    344558\n",
      "  ],\n",
      "  \"icon\": \"https://lh3.googleusercontent.com/QhMCymTyxJbzRiwMBA-GYooS-nVKm3fHg2CSRyKHvhmC-e5vOibfST73y1MmScvtPw\",\n",
      "  \"installs\": \"50,000,000+\",\n",
      "  \"minInstalls\": 50000000,\n",
      "  \"offersIAP\": true,\n",
      "  \"originalPrice\": null,\n",
      "  \"price\": 0,\n",
      "  \"privacyPolicy\": \"http://www.fitbit.com/privacy\",\n",
      "  \"ratings\": 683244,\n",
      "  \"recentChanges\": \"*Bug fixes and performance improvements\",\n",
      "  \"recentChangesHTML\": \"*Bug fixes and performance improvements\",\n",
      "  \"released\": \"Mar 16, 2012\",\n",
      "  \"reviews\": 312628,\n",
      "  \"sale\": false,\n",
      "  \"saleText\": null,\n",
      "  \"saleTime\": null,\n",
      "  \"score\": 3.8093805,\n",
      "  \"screenshots\": [\n",
      "    \"https://lh3.googleusercontent.com/n0OJCLgqxNGh1CkTRc884n979zGVuJ3c-jWH_KaNB_YxhwzKl3xqub5h-zxhTb-U4A\",\n",
      "    \"https://lh3.googleusercontent.com/d9RzKcQFGufQHZj1Fyrnu8CkaiOc_v8dQM8UIBX8M8TQR8C1k8AKm_AN8GAbLGo2KvQ\",\n",
      "    \"https://lh3.googleusercontent.com/mNw-1FqBtI8k4ingae_4CtP3oO_wc63zm8vvGx5fouM2a-i6XhjZc-ekLHOU-HkR0rM\",\n",
      "    \"https://lh3.googleusercontent.com/u8EqtB3yuyCY1a9BToM7lhnJwZ_CJddM1Vi1-olUdliYN6B3kGYGi35c4zLK4RjyEw\",\n",
      "    \"https://lh3.googleusercontent.com/GWi6mcYylZuMtsMu8sSQsyOeIL7aEQTGuth8F7NVSrgHplSZa13WMSlr-Wzw_rvgnbk3\",\n",
      "    \"https://lh3.googleusercontent.com/UACgi8b18FFpMq-6Iq6VVoIGMeA-gUu-Fb9tfN55I0vm9eP8f-F_Oy9z72h7oaovoPo\",\n",
      "    \"https://lh3.googleusercontent.com/hUfIinwCFyv9U67k3ljW2HgfP71qda4mY148cTJGjJtvnzsP9IuSr4bHF-0WFoDZGQ\",\n",
      "    \"https://lh3.googleusercontent.com/_HkJRbAxDE2LvXl7OLHlbb2RlNoLgyiBrgk5BtEu_emSfnuHGwoYEKzb9Y1lRcuj_Do\"\n",
      "  ],\n",
      "  \"size\": \"Varies with device\",\n",
      "  \"summary\": \"Fitbit is dedicated to helping people lead healthier, more active lives.\",\n",
      "  \"summaryHTML\": \"Fitbit is dedicated to helping people lead healthier, more active lives.\",\n",
      "  \"title\": \"Fitbit\",\n",
      "  \"updated\": 1596471804,\n",
      "  \"url\": \"https://play.google.com/store/apps/details?id=com.fitbit.FitbitMobile&hl=en&gl=us\",\n",
      "  \"version\": \"Varies with device\",\n",
      "  \"video\": null,\n",
      "  \"videoImage\": null\n",
      "}\n",
      "\n"
     ]
    }
   ],
   "source": [
    "print_json(app_infos[4])"
   ]
  },
  {
   "cell_type": "code",
   "execution_count": 15,
   "metadata": {
    "ExecuteTime": {
     "end_time": "2020-08-12T17:54:15.716471Z",
     "start_time": "2020-08-12T17:54:15.710390Z"
    }
   },
   "outputs": [
    {
     "data": {
      "text/plain": [
       "'com.fitbit.FitbitMobile'"
      ]
     },
     "execution_count": 15,
     "metadata": {},
     "output_type": "execute_result"
    }
   ],
   "source": [
    "app_packages[4]"
   ]
  },
  {
   "cell_type": "markdown",
   "metadata": {},
   "source": [
    "### logos:"
   ]
  },
  {
   "cell_type": "code",
   "execution_count": 17,
   "metadata": {
    "ExecuteTime": {
     "end_time": "2020-08-12T17:55:11.786366Z",
     "start_time": "2020-08-12T17:55:08.448677Z"
    }
   },
   "outputs": [
    {
     "data": {
      "image/png": "[encoded data removed]",
      "text/plain": [
       "<Figure size 1008x360 with 5 Axes>"
      ]
     },
     "metadata": {
      "image/png": {
       "height": 164,
       "width": 795
      },
      "needs_background": "light"
     },
     "output_type": "display_data"
    }
   ],
   "source": [
    "def format_title(title):\n",
    "    sep_index = title.find(':') if title.find(':') != -1 else title.find('-')\n",
    "    if sep_index != -1:\n",
    "        title = title[:sep_index]\n",
    "        return title[:15]\n",
    "fig, axs = plt.subplots(1,5,figsize=(14, 5))\n",
    "\n",
    "for i, ax in enumerate(axs.flat):\n",
    "    ai = app_infos[i]\n",
    "    img = plt.imread(ai['icon'])\n",
    "    ax.imshow(img)\n",
    "    ax.set_title(format_title(ai['title']))\n",
    "    ax.axis('off')"
   ]
  },
  {
   "cell_type": "markdown",
   "metadata": {},
   "source": [
    "### Obtaining app reviews:"
   ]
  },
  {
   "cell_type": "code",
   "execution_count": 18,
   "metadata": {
    "ExecuteTime": {
     "end_time": "2020-08-12T17:56:09.466811Z",
     "start_time": "2020-08-12T17:56:09.454283Z"
    },
    "scrolled": true
   },
   "outputs": [
    {
     "name": "stdout",
     "output_type": "stream",
     "text": [
      "Help on function reviews in module google_play_scraper.features.reviews:\n",
      "\n",
      "reviews(app_id, lang=None, country=None, sort=None, count=None, filter_score_with=None, continuation_token=None)\n",
      "\n"
     ]
    }
   ],
   "source": [
    "help(reviews)"
   ]
  },
  {
   "cell_type": "code",
   "execution_count": 19,
   "metadata": {
    "ExecuteTime": {
     "end_time": "2020-08-12T17:56:12.810487Z",
     "start_time": "2020-08-12T17:56:12.199373Z"
    },
    "scrolled": true
   },
   "outputs": [
    {
     "data": {
      "text/plain": [
       "[{'reviewId': 'gp:AOqpTOFHTAQU4MK4zFR3nKvcr2UcPfsXLjzUnkM3GEWMmebUgAUlJvTLi1onT58ly7C1-S3PJxTzttJ75p6zew',\n",
       "  'userName': 'Kylie',\n",
       "  'userImage': 'https://lh3.googleusercontent.com/a-/AOh14GiYk0T_EWDm4Q4cLPYnliFLe-8GqyO1FHARHbgZ_Vw',\n",
       "  'content': 'this app is really great other than the fact that so much of the content has to be paid for with a yearly subscription fee ($70). for example, you can only listen to the first day of (any) meditations for free; to listen to the rest of the days, you have to have that subscription i mentioned. there are zero free sleep stories. you can\\'t listen to your \"daily calm,\" unless you\\'re subscribed as said before. the main thing that\\'s free is music. please make more of the app accessible to more people.',\n",
       "  'score': 3,\n",
       "  'thumbsUpCount': 1020,\n",
       "  'reviewCreatedVersion': '4.29',\n",
       "  'at': datetime.datetime(2020, 7, 15, 5, 49, 42),\n",
       "  'replyContent': None,\n",
       "  'repliedAt': None},\n",
       " {'reviewId': 'gp:AOqpTOFGjU41kr589WJ-kx84Rbo26HEPQ5C1QRa2gDltojhNhFCfMRQhWhvWXdx4_nOYd6wBkjpZRBKmbP11JQ',\n",
       "  'userName': 'Dorottya Váradi',\n",
       "  'userImage': 'https://lh3.googleusercontent.com/a-/AOh14GhsOVaXE-VbS8DHUKb2RAoZ51RbXAIB-3AyZXV8gA',\n",
       "  'content': \"I really like this app, the music, the meditations the sleep stories are great. There's only one small thing that I really miss. Every time if I want to fall asleep for a music track, or a soundscape I have to set a timer to stop at some time. The problem is, that many times I forget about it, and I wake up middle of the night that the music is still going on. This app would be perfect if there would be an option for automatically setting a sleep timer.\",\n",
       "  'score': 4,\n",
       "  'thumbsUpCount': 218,\n",
       "  'reviewCreatedVersion': '4.28',\n",
       "  'at': datetime.datetime(2020, 7, 19, 0, 35, 51),\n",
       "  'replyContent': None,\n",
       "  'repliedAt': None},\n",
       " {'reviewId': 'gp:AOqpTOFhmUDR3qqdPEfc-DnpIGZV_ysSSdweWpdX7i0UE0JxP1iIuXE2xwXUXnpQpbB3HpVIjeN0NdGumhnhgg',\n",
       "  'userName': 'Aida F.',\n",
       "  'userImage': 'https://lh3.googleusercontent.com/a-/AOh14GhwnulGkA_K9O3-wkR6e_hE3b2OUG0-N6wMageoNA',\n",
       "  'content': \"I'm truly enjoying this CALM app!! I Love that it has the versatility of me using different features to help with my stress!! I especially LOVE the Nature sounds, relaxing music, the breathing exercises and the meditations!! And I appreciate the free features especially during these uncertain times of unemployment and the pandemic!!💖🤗🙏🏼🙏🏼\",\n",
       "  'score': 5,\n",
       "  'thumbsUpCount': 29,\n",
       "  'reviewCreatedVersion': '4.29',\n",
       "  'at': datetime.datetime(2020, 8, 1, 5, 43, 1),\n",
       "  'replyContent': None,\n",
       "  'repliedAt': None}]"
      ]
     },
     "execution_count": 19,
     "metadata": {},
     "output_type": "execute_result"
    }
   ],
   "source": [
    "#looking at top three most relevant reviews from calm and exploring the reviews function and learning...\n",
    "calm, continuation_token = reviews('com.calm.android', lang='en', country='us',sort=Sort.MOST_RELEVANT, count=3)\n",
    "calm"
   ]
  },
  {
   "cell_type": "markdown",
   "metadata": {},
   "source": [
    "Resources for api usage: \n",
    "https://github.com/JoMingyu/google-play-scraper\n",
    "\n",
    "better than this one: \n",
    "https://github.com/facundoolano/google-play-scraper#reviews\n"
   ]
  },
  {
   "cell_type": "code",
   "execution_count": 20,
   "metadata": {
    "ExecuteTime": {
     "end_time": "2020-08-12T18:00:38.983669Z",
     "start_time": "2020-08-12T17:56:18.554542Z"
    }
   },
   "outputs": [
    {
     "name": "stderr",
     "output_type": "stream",
     "text": [
      "100%|██████████| 5/5 [04:20<00:00, 52.08s/it]\n"
     ]
    }
   ],
   "source": [
    "#iterating through each of the app packages to grab reviews on each grabbing \n",
    "#10K each based on relevance of review\n",
    "results = []\n",
    "for ap in tqdm(app_packages):\n",
    "    result, continuation_token = reviews(\n",
    "    ap,\n",
    "    lang='en', # defaults to 'en'\n",
    "    country='us', # defaults to 'us'\n",
    "    sort=Sort.MOST_RELEVANT, # defaults to Sort.MOST_RELEVANT SQL-like calls\n",
    "    count = 10000, # defaults to 100, returns number of records you want\n",
    "    filter_score_with=None) # defaults to None(means all score) might be \n",
    "                            # usefull to scrape some more low scores if needed\n",
    "    \n",
    "    for a in result:\n",
    "        a['application'] = ap #tracking which app we grabbed review of\n",
    "        \n",
    "    results.extend(result)"
   ]
  },
  {
   "cell_type": "code",
   "execution_count": 15,
   "metadata": {},
   "outputs": [
    {
     "data": {
      "text/plain": [
       "50000"
      ]
     },
     "execution_count": 15,
     "metadata": {},
     "output_type": "execute_result"
    }
   ],
   "source": [
    "#making sure 10K of each app showed up:\n",
    "len(results)"
   ]
  },
  {
   "cell_type": "code",
   "execution_count": 16,
   "metadata": {},
   "outputs": [],
   "source": [
    "#creating files to work from and .csv if needed\n",
    "app_reviews_df = pd.DataFrame(results)\n",
    "app_reviews_df.to_csv('app_reviews.csv', index=None, header=True)"
   ]
  },
  {
   "cell_type": "markdown",
   "metadata": {},
   "source": [
    "## Data Description\n",
    "\n",
    "|**Field**  | **Description**|\n",
    "|--|--|\n",
    "|ReviewId | a unique identifier for each review|\n",
    "|userName  | Name of user that reviewed the product|\n",
    "|userImage | User avatar\n",
    "|content | The text supporting the stars assigned at the review|\n",
    "|thumbsUpCount | count of how many other users appreciated the review (helps for relevance)|\n",
    "|reviewCreatedVersion | The version of the app being reviewed|\n",
    "|at | the review date\n",
    "|replyContent | Text/content if there is a reply to a review from the app administrators|\n",
    "|repliedAt | Timestamp for the replyContent field\n",
    "|application| the app being reviewed\n"
   ]
  },
  {
   "cell_type": "code",
   "execution_count": 17,
   "metadata": {},
   "outputs": [
    {
     "data": {
      "text/html": [
       "<div>\n",
       "<style scoped>\n",
       "    .dataframe tbody tr th:only-of-type {\n",
       "        vertical-align: middle;\n",
       "    }\n",
       "\n",
       "    .dataframe tbody tr th {\n",
       "        vertical-align: top;\n",
       "    }\n",
       "\n",
       "    .dataframe thead th {\n",
       "        text-align: right;\n",
       "    }\n",
       "</style>\n",
       "<table border=\"1\" class=\"dataframe\">\n",
       "  <thead>\n",
       "    <tr style=\"text-align: right;\">\n",
       "      <th></th>\n",
       "      <th>reviewId</th>\n",
       "      <th>userName</th>\n",
       "      <th>userImage</th>\n",
       "      <th>content</th>\n",
       "      <th>score</th>\n",
       "      <th>thumbsUpCount</th>\n",
       "      <th>reviewCreatedVersion</th>\n",
       "      <th>at</th>\n",
       "      <th>replyContent</th>\n",
       "      <th>repliedAt</th>\n",
       "      <th>application</th>\n",
       "    </tr>\n",
       "  </thead>\n",
       "  <tbody>\n",
       "    <tr>\n",
       "      <td>0</td>\n",
       "      <td>gp:AOqpTOEtH7HaDAyL040EXcXI6-NkTLq5pFhVhAmuJPB...</td>\n",
       "      <td>Brogan Houston</td>\n",
       "      <td>https://lh3.googleusercontent.com/-We6TPXjnrQ8...</td>\n",
       "      <td>I don't care about all the sleep stories, I ju...</td>\n",
       "      <td>1</td>\n",
       "      <td>835</td>\n",
       "      <td>4.29</td>\n",
       "      <td>2020-07-11 09:06:57</td>\n",
       "      <td>None</td>\n",
       "      <td>NaT</td>\n",
       "      <td>com.calm.android</td>\n",
       "    </tr>\n",
       "    <tr>\n",
       "      <td>1</td>\n",
       "      <td>gp:AOqpTOEy__Hsix8SgQW5-8djW2RqnS3Yfp9cTsJPk8G...</td>\n",
       "      <td>Aubrey Karim</td>\n",
       "      <td>https://lh3.googleusercontent.com/-_V1wVCSPVrw...</td>\n",
       "      <td>This app is great for sleep and for meditation...</td>\n",
       "      <td>4</td>\n",
       "      <td>338</td>\n",
       "      <td>4.29</td>\n",
       "      <td>2020-07-07 16:40:53</td>\n",
       "      <td>None</td>\n",
       "      <td>NaT</td>\n",
       "      <td>com.calm.android</td>\n",
       "    </tr>\n",
       "    <tr>\n",
       "      <td>2</td>\n",
       "      <td>gp:AOqpTOFuuTaHyzeTDn_OMc8aJdsIwGiQ2O7zB-f7I-u...</td>\n",
       "      <td>Glenneroo</td>\n",
       "      <td>https://lh3.googleusercontent.com/a-/AOh14GgIF...</td>\n",
       "      <td>Can't even try the app without creating a logi...</td>\n",
       "      <td>1</td>\n",
       "      <td>693</td>\n",
       "      <td>4.29</td>\n",
       "      <td>2020-07-07 19:32:31</td>\n",
       "      <td>None</td>\n",
       "      <td>NaT</td>\n",
       "      <td>com.calm.android</td>\n",
       "    </tr>\n",
       "    <tr>\n",
       "      <td>3</td>\n",
       "      <td>gp:AOqpTOEVrkdHF8x6kk7t7rESpoSzsk2yY3I5b19zS_P...</td>\n",
       "      <td>Nathan T.</td>\n",
       "      <td>https://lh3.googleusercontent.com/-_gIxpXuntNI...</td>\n",
       "      <td>Not sure why the low reviews. But this is a re...</td>\n",
       "      <td>5</td>\n",
       "      <td>304</td>\n",
       "      <td>4.29</td>\n",
       "      <td>2020-07-07 21:05:20</td>\n",
       "      <td>None</td>\n",
       "      <td>NaT</td>\n",
       "      <td>com.calm.android</td>\n",
       "    </tr>\n",
       "    <tr>\n",
       "      <td>4</td>\n",
       "      <td>gp:AOqpTOFHTAQU4MK4zFR3nKvcr2UcPfsXLjzUnkM3GEW...</td>\n",
       "      <td>Kylie O</td>\n",
       "      <td>https://lh3.googleusercontent.com/a-/AOh14Gjfn...</td>\n",
       "      <td>this app is really great other than the fact t...</td>\n",
       "      <td>3</td>\n",
       "      <td>523</td>\n",
       "      <td>4.29</td>\n",
       "      <td>2020-07-15 05:49:42</td>\n",
       "      <td>None</td>\n",
       "      <td>NaT</td>\n",
       "      <td>com.calm.android</td>\n",
       "    </tr>\n",
       "  </tbody>\n",
       "</table>\n",
       "</div>"
      ],
      "text/plain": [
       "                                            reviewId        userName  \\\n",
       "0  gp:AOqpTOEtH7HaDAyL040EXcXI6-NkTLq5pFhVhAmuJPB...  Brogan Houston   \n",
       "1  gp:AOqpTOEy__Hsix8SgQW5-8djW2RqnS3Yfp9cTsJPk8G...    Aubrey Karim   \n",
       "2  gp:AOqpTOFuuTaHyzeTDn_OMc8aJdsIwGiQ2O7zB-f7I-u...       Glenneroo   \n",
       "3  gp:AOqpTOEVrkdHF8x6kk7t7rESpoSzsk2yY3I5b19zS_P...       Nathan T.   \n",
       "4  gp:AOqpTOFHTAQU4MK4zFR3nKvcr2UcPfsXLjzUnkM3GEW...         Kylie O   \n",
       "\n",
       "                                           userImage  \\\n",
       "0  https://lh3.googleusercontent.com/-We6TPXjnrQ8...   \n",
       "1  https://lh3.googleusercontent.com/-_V1wVCSPVrw...   \n",
       "2  https://lh3.googleusercontent.com/a-/AOh14GgIF...   \n",
       "3  https://lh3.googleusercontent.com/-_gIxpXuntNI...   \n",
       "4  https://lh3.googleusercontent.com/a-/AOh14Gjfn...   \n",
       "\n",
       "                                             content  score  thumbsUpCount  \\\n",
       "0  I don't care about all the sleep stories, I ju...      1            835   \n",
       "1  This app is great for sleep and for meditation...      4            338   \n",
       "2  Can't even try the app without creating a logi...      1            693   \n",
       "3  Not sure why the low reviews. But this is a re...      5            304   \n",
       "4  this app is really great other than the fact t...      3            523   \n",
       "\n",
       "  reviewCreatedVersion                  at replyContent repliedAt  \\\n",
       "0                 4.29 2020-07-11 09:06:57         None       NaT   \n",
       "1                 4.29 2020-07-07 16:40:53         None       NaT   \n",
       "2                 4.29 2020-07-07 19:32:31         None       NaT   \n",
       "3                 4.29 2020-07-07 21:05:20         None       NaT   \n",
       "4                 4.29 2020-07-15 05:49:42         None       NaT   \n",
       "\n",
       "        application  \n",
       "0  com.calm.android  \n",
       "1  com.calm.android  \n",
       "2  com.calm.android  \n",
       "3  com.calm.android  \n",
       "4  com.calm.android  "
      ]
     },
     "execution_count": 17,
     "metadata": {},
     "output_type": "execute_result"
    }
   ],
   "source": [
    "app_reviews_df.head()"
   ]
  },
  {
   "cell_type": "markdown",
   "metadata": {},
   "source": [
    "# Scrub / Clean"
   ]
  },
  {
   "cell_type": "code",
   "execution_count": 18,
   "metadata": {
    "scrolled": true
   },
   "outputs": [
    {
     "name": "stdout",
     "output_type": "stream",
     "text": [
      "<class 'pandas.core.frame.DataFrame'>\n",
      "RangeIndex: 50000 entries, 0 to 49999\n",
      "Data columns (total 11 columns):\n",
      "reviewId                50000 non-null object\n",
      "userName                50000 non-null object\n",
      "userImage               50000 non-null object\n",
      "content                 50000 non-null object\n",
      "score                   50000 non-null int64\n",
      "thumbsUpCount           50000 non-null int64\n",
      "reviewCreatedVersion    45185 non-null object\n",
      "at                      50000 non-null datetime64[ns]\n",
      "replyContent            19188 non-null object\n",
      "repliedAt               19188 non-null datetime64[ns]\n",
      "application             50000 non-null object\n",
      "dtypes: datetime64[ns](2), int64(2), object(7)\n",
      "memory usage: 4.2+ MB\n"
     ]
    }
   ],
   "source": [
    "app_reviews_df.info()"
   ]
  },
  {
   "cell_type": "markdown",
   "metadata": {},
   "source": [
    "**Target value counts:**"
   ]
  },
  {
   "cell_type": "code",
   "execution_count": 19,
   "metadata": {
    "scrolled": true
   },
   "outputs": [
    {
     "data": {
      "text/plain": [
       "5    20233\n",
       "1    14061\n",
       "4     6676\n",
       "3     4606\n",
       "2     4424\n",
       "Name: score, dtype: int64"
      ]
     },
     "execution_count": 19,
     "metadata": {},
     "output_type": "execute_result"
    }
   ],
   "source": [
    "app_reviews_df['score'].value_counts()"
   ]
  },
  {
   "cell_type": "markdown",
   "metadata": {},
   "source": [
    ">**Observation:** The intentional choice to select the most relevant reviews has paid off, it's good to see a mix of postive and negative reviews and not as imbalanced as in cases past.  :-P  Next up: A look into missing data."
   ]
  },
  {
   "cell_type": "markdown",
   "metadata": {},
   "source": [
    "### Missing Data:"
   ]
  },
  {
   "cell_type": "code",
   "execution_count": 20,
   "metadata": {},
   "outputs": [],
   "source": [
    "import missingno as msno"
   ]
  },
  {
   "cell_type": "code",
   "execution_count": 21,
   "metadata": {},
   "outputs": [
    {
     "data": {
      "text/plain": [
       "<matplotlib.axes._subplots.AxesSubplot at 0x17220898940>"
      ]
     },
     "execution_count": 21,
     "metadata": {},
     "output_type": "execute_result"
    },
    {
     "data": {
      "image/png": "[encoded data removed]",
      "text/plain": [
       "<Figure size 1728x720 with 3 Axes>"
      ]
     },
     "metadata": {
      "image/png": {
       "height": 740,
       "width": 1437
      },
      "needs_background": "light"
     },
     "output_type": "display_data"
    }
   ],
   "source": [
    "msno.bar(app_reviews_df.sample(1000))"
   ]
  },
  {
   "cell_type": "code",
   "execution_count": 22,
   "metadata": {
    "scrolled": false
   },
   "outputs": [
    {
     "data": {
      "text/html": [
       "<div>\n",
       "<style scoped>\n",
       "    .dataframe tbody tr th:only-of-type {\n",
       "        vertical-align: middle;\n",
       "    }\n",
       "\n",
       "    .dataframe tbody tr th {\n",
       "        vertical-align: top;\n",
       "    }\n",
       "\n",
       "    .dataframe thead th {\n",
       "        text-align: right;\n",
       "    }\n",
       "</style>\n",
       "<table border=\"1\" class=\"dataframe\">\n",
       "  <thead>\n",
       "    <tr style=\"text-align: right;\">\n",
       "      <th></th>\n",
       "      <th>reviewId</th>\n",
       "      <th>userName</th>\n",
       "      <th>userImage</th>\n",
       "      <th>content</th>\n",
       "      <th>score</th>\n",
       "      <th>thumbsUpCount</th>\n",
       "      <th>reviewCreatedVersion</th>\n",
       "      <th>at</th>\n",
       "      <th>replyContent</th>\n",
       "      <th>repliedAt</th>\n",
       "      <th>application</th>\n",
       "    </tr>\n",
       "  </thead>\n",
       "  <tbody>\n",
       "    <tr>\n",
       "      <td>3387</td>\n",
       "      <td>gp:AOqpTOE8Eb6zN0PndR2BzsNiX8Eom3fZsVgwjpRZ9kd...</td>\n",
       "      <td>Brazil Uluwita</td>\n",
       "      <td>https://lh3.googleusercontent.com/a-/AOh14GiiV...</td>\n",
       "      <td>I downloaded this application and immediately ...</td>\n",
       "      <td>1</td>\n",
       "      <td>0</td>\n",
       "      <td>None</td>\n",
       "      <td>2020-07-09 08:59:47</td>\n",
       "      <td>None</td>\n",
       "      <td>NaT</td>\n",
       "      <td>com.calm.android</td>\n",
       "    </tr>\n",
       "    <tr>\n",
       "      <td>3389</td>\n",
       "      <td>gp:AOqpTOHEb71QUbBxe0QmLcjs_gmyx-AHpzDGWY9Rgdq...</td>\n",
       "      <td>Alex Fixler</td>\n",
       "      <td>https://lh3.googleusercontent.com/-UYuiwOsZ48Q...</td>\n",
       "      <td>The \"How to Meditate\" 30 day course is really ...</td>\n",
       "      <td>3</td>\n",
       "      <td>1</td>\n",
       "      <td>None</td>\n",
       "      <td>2020-07-28 21:45:49</td>\n",
       "      <td>None</td>\n",
       "      <td>NaT</td>\n",
       "      <td>com.calm.android</td>\n",
       "    </tr>\n",
       "    <tr>\n",
       "      <td>3412</td>\n",
       "      <td>gp:AOqpTOFiiAJsuJAwIPAnjmcsDZMPHCeUiPPVPZWUtYK...</td>\n",
       "      <td>clary !</td>\n",
       "      <td>https://lh3.googleusercontent.com/a-/AOh14GjY-...</td>\n",
       "      <td>it's really not that bad, it's just that, some...</td>\n",
       "      <td>4</td>\n",
       "      <td>2</td>\n",
       "      <td>None</td>\n",
       "      <td>2020-07-08 18:49:47</td>\n",
       "      <td>None</td>\n",
       "      <td>NaT</td>\n",
       "      <td>com.calm.android</td>\n",
       "    </tr>\n",
       "    <tr>\n",
       "      <td>3419</td>\n",
       "      <td>gp:AOqpTOGlFq9L0PJmg_CoQ_ND0F25hfPCHzGAP4jUVdS...</td>\n",
       "      <td>Momeari Katoka</td>\n",
       "      <td>https://lh3.googleusercontent.com/-NhSiF1KaL70...</td>\n",
       "      <td>Had a free trial for a month (used the app twi...</td>\n",
       "      <td>1</td>\n",
       "      <td>2</td>\n",
       "      <td>None</td>\n",
       "      <td>2020-07-28 23:27:49</td>\n",
       "      <td>None</td>\n",
       "      <td>NaT</td>\n",
       "      <td>com.calm.android</td>\n",
       "    </tr>\n",
       "    <tr>\n",
       "      <td>3429</td>\n",
       "      <td>gp:AOqpTOGyZ_I-zJbSnWvZr7NvrCP0vRErh9htOUfiJRm...</td>\n",
       "      <td>ッGirls</td>\n",
       "      <td>https://lh3.googleusercontent.com/a-/AOh14GjHc...</td>\n",
       "      <td>This app is PERFECT. And yes, I'm a 9 year old...</td>\n",
       "      <td>4</td>\n",
       "      <td>0</td>\n",
       "      <td>None</td>\n",
       "      <td>2020-07-02 21:17:50</td>\n",
       "      <td>None</td>\n",
       "      <td>NaT</td>\n",
       "      <td>com.calm.android</td>\n",
       "    </tr>\n",
       "  </tbody>\n",
       "</table>\n",
       "</div>"
      ],
      "text/plain": [
       "                                               reviewId        userName  \\\n",
       "3387  gp:AOqpTOE8Eb6zN0PndR2BzsNiX8Eom3fZsVgwjpRZ9kd...  Brazil Uluwita   \n",
       "3389  gp:AOqpTOHEb71QUbBxe0QmLcjs_gmyx-AHpzDGWY9Rgdq...     Alex Fixler   \n",
       "3412  gp:AOqpTOFiiAJsuJAwIPAnjmcsDZMPHCeUiPPVPZWUtYK...         clary !   \n",
       "3419  gp:AOqpTOGlFq9L0PJmg_CoQ_ND0F25hfPCHzGAP4jUVdS...  Momeari Katoka   \n",
       "3429  gp:AOqpTOGyZ_I-zJbSnWvZr7NvrCP0vRErh9htOUfiJRm...          ッGirls   \n",
       "\n",
       "                                              userImage  \\\n",
       "3387  https://lh3.googleusercontent.com/a-/AOh14GiiV...   \n",
       "3389  https://lh3.googleusercontent.com/-UYuiwOsZ48Q...   \n",
       "3412  https://lh3.googleusercontent.com/a-/AOh14GjY-...   \n",
       "3419  https://lh3.googleusercontent.com/-NhSiF1KaL70...   \n",
       "3429  https://lh3.googleusercontent.com/a-/AOh14GjHc...   \n",
       "\n",
       "                                                content  score  thumbsUpCount  \\\n",
       "3387  I downloaded this application and immediately ...      1              0   \n",
       "3389  The \"How to Meditate\" 30 day course is really ...      3              1   \n",
       "3412  it's really not that bad, it's just that, some...      4              2   \n",
       "3419  Had a free trial for a month (used the app twi...      1              2   \n",
       "3429  This app is PERFECT. And yes, I'm a 9 year old...      4              0   \n",
       "\n",
       "     reviewCreatedVersion                  at replyContent repliedAt  \\\n",
       "3387                 None 2020-07-09 08:59:47         None       NaT   \n",
       "3389                 None 2020-07-28 21:45:49         None       NaT   \n",
       "3412                 None 2020-07-08 18:49:47         None       NaT   \n",
       "3419                 None 2020-07-28 23:27:49         None       NaT   \n",
       "3429                 None 2020-07-02 21:17:50         None       NaT   \n",
       "\n",
       "           application  \n",
       "3387  com.calm.android  \n",
       "3389  com.calm.android  \n",
       "3412  com.calm.android  \n",
       "3419  com.calm.android  \n",
       "3429  com.calm.android  "
      ]
     },
     "execution_count": 22,
     "metadata": {},
     "output_type": "execute_result"
    }
   ],
   "source": [
    "#reviewCreatedVersion is almost 10% of the data... for now filling in with a '.' to keep the data numeric'\n",
    "#and previewing the data to look for obvious patterns \n",
    "missingvers = app_reviews_df.loc[app_reviews_df['reviewCreatedVersion'].isna()]\n",
    "missingvers.head()"
   ]
  },
  {
   "cell_type": "code",
   "execution_count": 23,
   "metadata": {
    "scrolled": false
   },
   "outputs": [],
   "source": [
    "app_reviews_df['reviewCreatedVersion'].fillna('.', inplace=True)"
   ]
  },
  {
   "cell_type": "code",
   "execution_count": 24,
   "metadata": {},
   "outputs": [
    {
     "data": {
      "text/plain": [
       "False    0.61624\n",
       "True     0.38376\n",
       "Name: replied, dtype: float64"
      ]
     },
     "execution_count": 24,
     "metadata": {},
     "output_type": "execute_result"
    }
   ],
   "source": [
    "#creating a field to indicate whether or not someone replied to a review\n",
    "app_reviews_df['replied'] = app_reviews_df['replyContent'].notnull()\n",
    "app_reviews_df['replied'].value_counts(normalize=True)"
   ]
  },
  {
   "cell_type": "code",
   "execution_count": 25,
   "metadata": {},
   "outputs": [],
   "source": [
    "app_reviews_df['replyContent'].fillna('n/a', inplace=True)\n",
    "app_reviews_df['repliedAt'].fillna('_', inplace=True)"
   ]
  },
  {
   "cell_type": "code",
   "execution_count": 26,
   "metadata": {
    "scrolled": true
   },
   "outputs": [
    {
     "name": "stdout",
     "output_type": "stream",
     "text": [
      "<class 'pandas.core.frame.DataFrame'>\n",
      "RangeIndex: 50000 entries, 0 to 49999\n",
      "Data columns (total 12 columns):\n",
      "reviewId                50000 non-null object\n",
      "userName                50000 non-null object\n",
      "userImage               50000 non-null object\n",
      "content                 50000 non-null object\n",
      "score                   50000 non-null int64\n",
      "thumbsUpCount           50000 non-null int64\n",
      "reviewCreatedVersion    50000 non-null object\n",
      "at                      50000 non-null datetime64[ns]\n",
      "replyContent            50000 non-null object\n",
      "repliedAt               50000 non-null object\n",
      "application             50000 non-null object\n",
      "replied                 50000 non-null bool\n",
      "dtypes: bool(1), datetime64[ns](1), int64(2), object(8)\n",
      "memory usage: 4.2+ MB\n"
     ]
    }
   ],
   "source": [
    "app_reviews_df.info()"
   ]
  },
  {
   "cell_type": "markdown",
   "metadata": {},
   "source": [
    "### Dropping columns: "
   ]
  },
  {
   "cell_type": "code",
   "execution_count": 27,
   "metadata": {
    "scrolled": true
   },
   "outputs": [
    {
     "data": {
      "text/plain": [
       "False    50000\n",
       "Name: reviewId, dtype: int64"
      ]
     },
     "execution_count": 27,
     "metadata": {},
     "output_type": "execute_result"
    }
   ],
   "source": [
    "#there are no reviewIds that are duplicated, see no value in this content\n",
    "#it's easier to index of of other numbers for slicing, so dropping this feature:\n",
    "app_reviews_df['reviewId'].duplicated().value_counts()"
   ]
  },
  {
   "cell_type": "code",
   "execution_count": 28,
   "metadata": {},
   "outputs": [],
   "source": [
    "app_reviews_df.drop('reviewId', axis=1, inplace=True)"
   ]
  },
  {
   "cell_type": "code",
   "execution_count": 29,
   "metadata": {
    "scrolled": true
   },
   "outputs": [],
   "source": [
    "app_reviews_df['userImage'][8]\n",
    "#not focus of this project so dropping images\n",
    "app_reviews_df.drop('userImage', axis=1, inplace=True)"
   ]
  },
  {
   "cell_type": "code",
   "execution_count": 30,
   "metadata": {
    "scrolled": false
   },
   "outputs": [
    {
     "name": "stdout",
     "output_type": "stream",
     "text": [
      "<class 'pandas.core.frame.DataFrame'>\n",
      "RangeIndex: 50000 entries, 0 to 49999\n",
      "Data columns (total 10 columns):\n",
      "userName                50000 non-null object\n",
      "content                 50000 non-null object\n",
      "score                   50000 non-null int64\n",
      "thumbsUpCount           50000 non-null int64\n",
      "reviewCreatedVersion    50000 non-null object\n",
      "at                      50000 non-null datetime64[ns]\n",
      "replyContent            50000 non-null object\n",
      "repliedAt               50000 non-null object\n",
      "application             50000 non-null object\n",
      "replied                 50000 non-null bool\n",
      "dtypes: bool(1), datetime64[ns](1), int64(2), object(6)\n",
      "memory usage: 3.5+ MB\n"
     ]
    }
   ],
   "source": [
    "app_reviews_df.info()"
   ]
  },
  {
   "cell_type": "code",
   "execution_count": 1,
   "metadata": {
    "ExecuteTime": {
     "end_time": "2020-08-01T18:45:40.127080Z",
     "start_time": "2020-08-01T18:45:39.984464Z"
    }
   },
   "outputs": [
    {
     "ename": "NameError",
     "evalue": "name 'app_reviews_df' is not defined",
     "output_type": "error",
     "traceback": [
      "\u001b[1;31m---------------------------------------------------------------------------\u001b[0m",
      "\u001b[1;31mNameError\u001b[0m                                 Traceback (most recent call last)",
      "\u001b[1;32m<ipython-input-1-d4c62ab17e23>\u001b[0m in \u001b[0;36m<module>\u001b[1;34m\u001b[0m\n\u001b[1;32m----> 1\u001b[1;33m \u001b[0mapp_reviews_df\u001b[0m\u001b[1;33m.\u001b[0m\u001b[0mto_csv\u001b[0m\u001b[1;33m(\u001b[0m\u001b[1;34m'app_reviews_clean'\u001b[0m\u001b[1;33m,\u001b[0m \u001b[0mindex\u001b[0m\u001b[1;33m=\u001b[0m\u001b[1;32mNone\u001b[0m\u001b[1;33m,\u001b[0m \u001b[0mheader\u001b[0m\u001b[1;33m=\u001b[0m\u001b[1;32mTrue\u001b[0m\u001b[1;33m)\u001b[0m\u001b[1;33m\u001b[0m\u001b[1;33m\u001b[0m\u001b[0m\n\u001b[0m",
      "\u001b[1;31mNameError\u001b[0m: name 'app_reviews_df' is not defined"
     ]
    }
   ],
   "source": [
    "app_reviews_df.to_csv('app_reviews_clean', index=None, header=True)"
   ]
  }
 ],
 "metadata": {
  "kernelspec": {
   "display_name": "Python [conda env:learn-env] *",
   "language": "python",
   "name": "conda-env-learn-env-py"
  },
  "language_info": {
   "codemirror_mode": {
    "name": "ipython",
    "version": 3
   },
   "file_extension": ".py",
   "mimetype": "text/x-python",
   "name": "python",
   "nbconvert_exporter": "python",
   "pygments_lexer": "ipython3",
   "version": "3.6.9"
  },
  "latex_envs": {
   "LaTeX_envs_menu_present": true,
   "autoclose": false,
   "autocomplete": true,
   "bibliofile": "biblio.bib",
   "cite_by": "apalike",
   "current_citInitial": 1,
   "eqLabelWithNumbers": true,
   "eqNumInitial": 1,
   "hotkeys": {
    "equation": "Ctrl-E",
    "itemize": "Ctrl-I"
   },
   "labels_anchors": false,
   "latex_user_defs": false,
   "report_style_numbering": false,
   "user_envs_cfg": false
  },
  "toc": {
   "base_numbering": 1,
   "nav_menu": {},
   "number_sections": true,
   "sideBar": true,
   "skip_h1_title": false,
   "title_cell": "Table of Contents",
   "title_sidebar": "Contents",
   "toc_cell": false,
   "toc_position": {
    "height": "582.5px",
    "left": "587px",
    "top": "108.907px",
    "width": "348.681px"
   },
   "toc_section_display": true,
   "toc_window_display": true
  },
  "varInspector": {
   "cols": {
    "lenName": 16,
    "lenType": 16,
    "lenVar": 40
   },
   "kernels_config": {
    "python": {
     "delete_cmd_postfix": "",
     "delete_cmd_prefix": "del ",
     "library": "var_list.py",
     "varRefreshCmd": "print(var_dic_list())"
    },
    "r": {
     "delete_cmd_postfix": ") ",
     "delete_cmd_prefix": "rm(",
     "library": "var_list.r",
     "varRefreshCmd": "cat(var_dic_list()) "
    }
   },
   "position": {
    "height": "518.49px",
    "left": "1232.84px",
    "right": "20px",
    "top": "120px",
    "width": "326.328px"
   },
   "types_to_exclude": [
    "module",
    "function",
    "builtin_function_or_method",
    "instance",
    "_Feature"
   ],
   "window_display": false
  }
 },
 "nbformat": 4,
 "nbformat_minor": 2
}
